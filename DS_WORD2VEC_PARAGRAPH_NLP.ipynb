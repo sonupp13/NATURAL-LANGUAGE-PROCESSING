{
  "nbformat": 4,
  "nbformat_minor": 0,
  "metadata": {
    "colab": {
      "provenance": [],
      "authorship_tag": "ABX9TyM9Fg18VGQoe5gUI6/QhEwm",
      "include_colab_link": true
    },
    "kernelspec": {
      "name": "python3",
      "display_name": "Python 3"
    },
    "language_info": {
      "name": "python"
    }
  },
  "cells": [
    {
      "cell_type": "markdown",
      "metadata": {
        "id": "view-in-github",
        "colab_type": "text"
      },
      "source": [
        "<a href=\"https://colab.research.google.com/github/sonupp13/NATURAL-LANGUAGE-PROCESSING/blob/main/DS_WORD2VEC_PARAGRAPH_NLP.ipynb\" target=\"_parent\"><img src=\"https://colab.research.google.com/assets/colab-badge.svg\" alt=\"Open In Colab\"/></a>"
      ]
    },
    {
      "cell_type": "code",
      "execution_count": 8,
      "metadata": {
        "id": "puhfVElIUj6a"
      },
      "outputs": [],
      "source": [
        "import nltk\n",
        "\n",
        "from gensim.models import Word2Vec\n",
        "from nltk.corpus import stopwords\n",
        "\n",
        "import re"
      ]
    },
    {
      "cell_type": "code",
      "source": [
        "paragraph = \"\"\"I have three visions for India. In 3000 years of our history, people from all over\n",
        "               the world have come and invaded us, captured our lands, conquered our minds.\n",
        "               From Alexander onwards, the Greeks, the Turks, the Moguls, the Portuguese, the British,\n",
        "               the French, the Dutch, all of them came and looted us, took over what was ours.\n",
        "               Yet we have not done this to any other nation. We have not conquered anyone.\n",
        "               We have not grabbed their land, their culture,\n",
        "               their history and tried to enforce our way of life on them.\n",
        "               Why? Because we respect the freedom of others.That is why my\n",
        "               first vision is that of freedom. I believe that India got its first vision of\n",
        "               this in 1857, when we started the War of Independence. It is this freedom that\n",
        "               we must protect and nurture and build on. If we are not free, no one will respect us.\n",
        "               My second vision for India’s development. For fifty years we have been a developing nation.\n",
        "               It is time we see ourselves as a developed nation. We are among the top 5 nations of the world\n",
        "               in terms of GDP. We have a 10 percent growth rate in most areas. Our poverty levels are falling.\n",
        "               Our achievements are being globally recognised today. Yet we lack the self-confidence to\n",
        "               see ourselves as a developed nation, self-reliant and self-assured. Isn’t this incorrect?\n",
        "               I have a third vision. India must stand up to the world. Because I believe that unless India\n",
        "               stands up to the world, no one will respect us. Only strength respects strength. We must be\n",
        "               strong not only as a military power but also as an economic power. Both must go hand-in-hand.\n",
        "               My good fortune was to have worked with three great minds. Dr. Vikram Sarabhai of the Dept. of\n",
        "               space, Professor Satish Dhawan, who succeeded him and Dr. Brahm Prakash, father of nuclear material.\n",
        "               I was lucky to have worked with all three of them closely and consider this the great opportunity of my life.\n",
        "               I see four milestones in my career\"\"\"\n",
        "\n"
      ],
      "metadata": {
        "id": "baBBHhkWUvhc"
      },
      "execution_count": 9,
      "outputs": []
    },
    {
      "cell_type": "code",
      "source": [
        "import nltk\n",
        "nltk.download('stopwords')\n",
        "nltk.download('punkt')"
      ],
      "metadata": {
        "colab": {
          "base_uri": "https://localhost:8080/"
        },
        "id": "Y1uG8GVJU1-Q",
        "outputId": "d4e0bac7-05d1-47b0-e6a8-9ddb81b659ba"
      },
      "execution_count": 14,
      "outputs": [
        {
          "output_type": "stream",
          "name": "stderr",
          "text": [
            "[nltk_data] Downloading package stopwords to /root/nltk_data...\n",
            "[nltk_data]   Unzipping corpora/stopwords.zip.\n",
            "[nltk_data] Downloading package punkt to /root/nltk_data...\n",
            "[nltk_data]   Unzipping tokenizers/punkt.zip.\n"
          ]
        },
        {
          "output_type": "execute_result",
          "data": {
            "text/plain": [
              "True"
            ]
          },
          "metadata": {},
          "execution_count": 14
        }
      ]
    },
    {
      "cell_type": "code",
      "source": [
        "# Preprocessing the data\n",
        "text = re.sub(r'\\[[0-9*\\]]', ' ', paragraph)  # Remove numbers within square brackets\n",
        "text = re.sub(r'\\s+', ' ', text)              # Remove extra whitespace characters\n",
        "text = text.lower()                           # Convert all characters to lowercase\n",
        "text = re.sub(r'\\d', ' ', text)               # Remove digits\n",
        "text = re.sub(r'\\s+', ' ', text)              # Remove extra whitespace characters again\n",
        "\n",
        "print(text)"
      ],
      "metadata": {
        "colab": {
          "base_uri": "https://localhost:8080/"
        },
        "id": "Osyrch-LVFGp",
        "outputId": "4bb166bf-8a69-46ce-ef35-3496208b2614"
      },
      "execution_count": 18,
      "outputs": [
        {
          "output_type": "stream",
          "name": "stdout",
          "text": [
            "i have three visions for india. in years of our history, people from all over the world have come and invaded us, captured our lands, conquered our minds. from alexander onwards, the greeks, the turks, the moguls, the portuguese, the british, the french, the dutch, all of them came and looted us, took over what was ours. yet we have not done this to any other nation. we have not conquered anyone. we have not grabbed their land, their culture, their history and tried to enforce our way of life on them. why? because we respect the freedom of others.that is why my first vision is that of freedom. i believe that india got its first vision of this in , when we started the war of independence. it is this freedom that we must protect and nurture and build on. if we are not free, no one will respect us. my second vision for india’s development. for fifty years we have been a developing nation. it is time we see ourselves as a developed nation. we are among the top nations of the world in terms of gdp. we have a percent growth rate in most areas. our poverty levels are falling. our achievements are being globally recognised today. yet we lack the self-confidence to see ourselves as a developed nation, self-reliant and self-assured. isn’t this incorrect? i have a third vision. india must stand up to the world. because i believe that unless india stands up to the world, no one will respect us. only strength respects strength. we must be strong not only as a military power but also as an economic power. both must go hand-in-hand. my good fortune was to have worked with three great minds. dr. vikram sarabhai of the dept. of space, professor satish dhawan, who succeeded him and dr. brahm prakash, father of nuclear material. i was lucky to have worked with all three of them closely and consider this the great opportunity of my life. i see four milestones in my career\n"
          ]
        }
      ]
    },
    {
      "cell_type": "code",
      "source": [
        "\n",
        "# Preparing the dataset\n",
        "sentences = nltk.sent_tokenize(text)\n",
        "\n",
        "sentences = [nltk.word_tokenize(sentence) for sentence in sentences]"
      ],
      "metadata": {
        "id": "9EEMhvERWIIS"
      },
      "execution_count": 19,
      "outputs": []
    },
    {
      "cell_type": "code",
      "source": [
        "\n",
        "for i in range(len(sentences)):\n",
        "    sentences[i] = [word for word in sentences[i] if word not in stopwords.words('english')]\n",
        "\n",
        "\n",
        "# Training the Word2Vec model\n",
        "model = Word2Vec(sentences, min_count=1)\n",
        "\n",
        "\n",
        "#words = model.wv.key_to_index.keys()\n",
        "\n",
        "# Finding Word Vectors\n",
        "vector = model.wv['war']\n",
        "\n",
        "vector"
      ],
      "metadata": {
        "colab": {
          "base_uri": "https://localhost:8080/"
        },
        "id": "NrlJftx5WO-O",
        "outputId": "fb80f17b-75b5-4d65-b061-dfa285705a5f"
      },
      "execution_count": 20,
      "outputs": [
        {
          "output_type": "execute_result",
          "data": {
            "text/plain": [
              "array([-0.00219905, -0.00970885,  0.00929075,  0.00203636, -0.00116388,\n",
              "       -0.00551955, -0.0085126 , -0.00989383,  0.00894091, -0.00250522,\n",
              "        0.00459427, -0.00452481,  0.00995189,  0.00366171,  0.00103129,\n",
              "       -0.00403834,  0.00122027, -0.00265451,  0.00735284,  0.00447542,\n",
              "        0.00099955,  0.0034782 ,  0.00372712, -0.00680036,  0.00893243,\n",
              "        0.00173499, -0.00579935,  0.00866838, -0.00129286,  0.00818304,\n",
              "       -0.0014927 ,  0.00698649,  0.00273452, -0.00436226, -0.00374683,\n",
              "        0.00919046,  0.00159645, -0.00599784,  0.00034776, -0.00195135,\n",
              "        0.00159242, -0.00771525,  0.00738298,  0.00131083,  0.00787099,\n",
              "        0.00445568, -0.00439675,  0.00376054, -0.0006357 , -0.00984484,\n",
              "        0.00825004,  0.00964326,  0.00965426, -0.00379659, -0.00844202,\n",
              "        0.00483581, -0.00765107,  0.00853567,  0.00275977,  0.00560496,\n",
              "        0.00611362,  0.00046455, -0.00209463,  0.000778  ,  0.00983559,\n",
              "       -0.00711718, -0.00155743, -0.00235984,  0.00487084,  0.00645515,\n",
              "       -0.0041403 ,  0.00361816, -0.00447258,  0.00326611,  0.0081738 ,\n",
              "        0.00361967, -0.0045711 , -0.00301938,  0.00787179,  0.00959686,\n",
              "        0.00580789, -0.00326881, -0.00183876, -0.00624998, -0.00429521,\n",
              "        0.00336554, -0.00648911, -0.00661903,  0.00811393,  0.0095074 ,\n",
              "        0.00814451,  0.00150699, -0.00880124, -0.00759764,  0.0015789 ,\n",
              "       -0.00952675, -0.00741688,  0.00203283, -0.00292885, -0.00916266],\n",
              "      dtype=float32)"
            ]
          },
          "metadata": {},
          "execution_count": 20
        }
      ]
    },
    {
      "cell_type": "code",
      "source": [
        "# Most similar words\n",
        "similar = model.wv.most_similar('vikram')"
      ],
      "metadata": {
        "id": "oqPblE12WVJQ"
      },
      "execution_count": 21,
      "outputs": []
    },
    {
      "cell_type": "code",
      "source": [
        "similar"
      ],
      "metadata": {
        "colab": {
          "base_uri": "https://localhost:8080/"
        },
        "id": "LNziG4ZJWYcG",
        "outputId": "88892ca8-65a8-4bea-f1e7-c398420f8873"
      },
      "execution_count": 22,
      "outputs": [
        {
          "output_type": "execute_result",
          "data": {
            "text/plain": [
              "[('visions', 0.1814650446176529),\n",
              " ('growth', 0.1663494110107422),\n",
              " ('one', 0.1643451601266861),\n",
              " ('took', 0.1643296480178833),\n",
              " (',', 0.15887506306171417),\n",
              " ('fifty', 0.1472669243812561),\n",
              " ('developing', 0.14714020490646362),\n",
              " ('worked', 0.13810549676418304),\n",
              " ('development', 0.13769842684268951),\n",
              " ('time', 0.13293513655662537)]"
            ]
          },
          "metadata": {},
          "execution_count": 22
        }
      ]
    }
  ]
}