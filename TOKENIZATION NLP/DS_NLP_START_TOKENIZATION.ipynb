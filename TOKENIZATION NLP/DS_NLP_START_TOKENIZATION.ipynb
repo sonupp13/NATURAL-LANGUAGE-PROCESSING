{
  "nbformat": 4,
  "nbformat_minor": 0,
  "metadata": {
    "colab": {
      "provenance": [],
      "authorship_tag": "ABX9TyOZSHuX6v8KIhwH5Nb1FC43",
      "include_colab_link": true
    },
    "kernelspec": {
      "name": "python3",
      "display_name": "Python 3"
    },
    "language_info": {
      "name": "python"
    }
  },
  "cells": [
    {
      "cell_type": "markdown",
      "metadata": {
        "id": "view-in-github",
        "colab_type": "text"
      },
      "source": [
        "<a href=\"https://colab.research.google.com/github/sonupp13/Natural-Language-Processing/blob/main/TOKENIZATION%20NLP/DS_NLP_START_TOKENIZATION.ipynb\" target=\"_parent\"><img src=\"https://colab.research.google.com/assets/colab-badge.svg\" alt=\"Open In Colab\"/></a>"
      ]
    },
    {
      "cell_type": "markdown",
      "source": [
        "Tokenization in Natural Language Processing (NLP) is the process of breaking down text into smaller units such as words, phrases, symbols, or other meaningful elements, called tokens. If we have a sentence, the idea is to separate each word and build a vocabulary such that we can represent all words uniquely in a list. Numbers, words, etc.. all fall under tokens."
      ],
      "metadata": {
        "id": "BZM8xPN9Ekq5"
      }
    },
    {
      "cell_type": "markdown",
      "source": [
        "**First, make sure you have NLTK installed. You can install it via pip if you haven't already**"
      ],
      "metadata": {
        "id": "xbmRuumuFGtK"
      }
    },
    {
      "cell_type": "code",
      "source": [
        "pip install nltk"
      ],
      "metadata": {
        "colab": {
          "base_uri": "https://localhost:8080/"
        },
        "id": "N63tlQA-FgQw",
        "outputId": "a0081442-9d4c-47e0-b698-8d14b3f5f035"
      },
      "execution_count": 1,
      "outputs": [
        {
          "output_type": "stream",
          "name": "stdout",
          "text": [
            "Requirement already satisfied: nltk in /usr/local/lib/python3.10/dist-packages (3.8.1)\n",
            "Requirement already satisfied: click in /usr/local/lib/python3.10/dist-packages (from nltk) (8.1.7)\n",
            "Requirement already satisfied: joblib in /usr/local/lib/python3.10/dist-packages (from nltk) (1.3.2)\n",
            "Requirement already satisfied: regex>=2021.8.3 in /usr/local/lib/python3.10/dist-packages (from nltk) (2023.12.25)\n",
            "Requirement already satisfied: tqdm in /usr/local/lib/python3.10/dist-packages (from nltk) (4.66.2)\n"
          ]
        }
      ]
    },
    {
      "cell_type": "code",
      "source": [
        "import nltk"
      ],
      "metadata": {
        "id": "EVE6BGT7FkjK"
      },
      "execution_count": 2,
      "outputs": []
    },
    {
      "cell_type": "code",
      "source": [
        "nltk.download('punkt')"
      ],
      "metadata": {
        "colab": {
          "base_uri": "https://localhost:8080/"
        },
        "id": "SJ1TmqkRGfsC",
        "outputId": "6c19523c-b2d0-4b7b-8929-fb72177e44c0"
      },
      "execution_count": 3,
      "outputs": [
        {
          "output_type": "stream",
          "name": "stderr",
          "text": [
            "[nltk_data] Downloading package punkt to /root/nltk_data...\n",
            "[nltk_data]   Unzipping tokenizers/punkt.zip.\n"
          ]
        },
        {
          "output_type": "execute_result",
          "data": {
            "text/plain": [
              "True"
            ]
          },
          "metadata": {},
          "execution_count": 3
        }
      ]
    },
    {
      "cell_type": "code",
      "source": [
        "paragraph = \"\"\"I have three visions for India. In 3000 years of our history, people from all over\n",
        "               the world have come and invaded us, captured our lands, conquered our minds.\n",
        "               From Alexander onwards, the Greeks, the Turks, the Moguls, the Portuguese, the British,\n",
        "               the French, the Dutch, all of them came and looted us, took over what was ours.\n",
        "               Yet we have not done this to any other nation. We have not conquered anyone.\n",
        "               We have not grabbed their land, their culture,\n",
        "               their history and tried to enforce our way of life on them.\n",
        "               Why? Because we respect the freedom of others.That is why my\n",
        "               first vision is that of freedom. I believe that India got its first vision of\n",
        "               this in 1857, when we started the War of Independence. It is this freedom that\n",
        "               we must protect and nurture and build on. If we are not free, no one will respect us.\n",
        "               My second vision for India’s development. For fifty years we have been a developing nation.\n",
        "               It is time we see ourselves as a developed nation. We are among the top 5 nations of the world\n",
        "               in terms of GDP. We have a 10 percent growth rate in most areas. Our poverty levels are falling.\n",
        "               Our achievements are being globally recognised today. Yet we lack the self-confidence to\n",
        "               see ourselves as a developed nation, self-reliant and self-assured. Isn’t this incorrect?\n",
        "               I have a third vision. India must stand up to the world. Because I believe that unless India\n",
        "               stands up to the world, no one will respect us. Only strength respects strength. We must be\n",
        "               strong not only as a military power but also as an economic power. Both must go hand-in-hand.\n",
        "               My good fortune was to have worked with three great minds. Dr. Vikram Sarabhai of the Dept. of\n",
        "               space, Professor Satish Dhawan, who succeeded him and Dr. Brahm Prakash, father of nuclear material.\n",
        "               I was lucky to have worked with all three of them closely and consider this the great opportunity of my life.\n",
        "               I see four milestones in my career\"\"\"\n"
      ],
      "metadata": {
        "id": "Gp8rftSwIZGr"
      },
      "execution_count": 4,
      "outputs": []
    },
    {
      "cell_type": "code",
      "source": [
        "sentences= nltk.sent_tokenize(paragraph)\n",
        "sentences"
      ],
      "metadata": {
        "id": "OAQTSpDTIdyT"
      },
      "execution_count": null,
      "outputs": []
    },
    {
      "cell_type": "code",
      "source": [
        "words= nltk.word_tokenize(paragraph)\n",
        "words"
      ],
      "metadata": {
        "id": "M0pK7AHqJGG2"
      },
      "execution_count": null,
      "outputs": []
    },
    {
      "cell_type": "code",
      "source": [
        "for words in words :\n",
        "  print(words)           #list elements iterated to get as single elements"
      ],
      "metadata": {
        "id": "WKiyXRnBJXHi"
      },
      "execution_count": null,
      "outputs": []
    },
    {
      "cell_type": "code",
      "source": [
        "for sentence in sentences:\n",
        "    print(sentence)"
      ],
      "metadata": {
        "colab": {
          "base_uri": "https://localhost:8080/"
        },
        "id": "v21gIo5zJ1XP",
        "outputId": "ef3cc9fd-f818-4aba-f4b1-7ebff93c4050"
      },
      "execution_count": 11,
      "outputs": [
        {
          "output_type": "stream",
          "name": "stdout",
          "text": [
            "I have three visions for India.\n",
            "In 3000 years of our history, people from all over\n",
            "               the world have come and invaded us, captured our lands, conquered our minds.\n",
            "From Alexander onwards, the Greeks, the Turks, the Moguls, the Portuguese, the British,\n",
            "               the French, the Dutch, all of them came and looted us, took over what was ours.\n",
            "Yet we have not done this to any other nation.\n",
            "We have not conquered anyone.\n",
            "We have not grabbed their land, their culture,\n",
            "               their history and tried to enforce our way of life on them.\n",
            "Why?\n",
            "Because we respect the freedom of others.That is why my\n",
            "               first vision is that of freedom.\n",
            "I believe that India got its first vision of\n",
            "               this in 1857, when we started the War of Independence.\n",
            "It is this freedom that\n",
            "               we must protect and nurture and build on.\n",
            "If we are not free, no one will respect us.\n",
            "My second vision for India’s development.\n",
            "For fifty years we have been a developing nation.\n",
            "It is time we see ourselves as a developed nation.\n",
            "We are among the top 5 nations of the world\n",
            "               in terms of GDP.\n",
            "We have a 10 percent growth rate in most areas.\n",
            "Our poverty levels are falling.\n",
            "Our achievements are being globally recognised today.\n",
            "Yet we lack the self-confidence to\n",
            "               see ourselves as a developed nation, self-reliant and self-assured.\n",
            "Isn’t this incorrect?\n",
            "I have a third vision.\n",
            "India must stand up to the world.\n",
            "Because I believe that unless India\n",
            "               stands up to the world, no one will respect us.\n",
            "Only strength respects strength.\n",
            "We must be\n",
            "               strong not only as a military power but also as an economic power.\n",
            "Both must go hand-in-hand.\n",
            "My good fortune was to have worked with three great minds.\n",
            "Dr. Vikram Sarabhai of the Dept.\n",
            "of\n",
            "               space, Professor Satish Dhawan, who succeeded him and Dr. Brahm Prakash, father of nuclear material.\n",
            "I was lucky to have worked with all three of them closely and consider this the great opportunity of my life.\n",
            "I see four milestones in my career\n"
          ]
        }
      ]
    },
    {
      "cell_type": "markdown",
      "source": [
        "**Lower case conversion**\n"
      ],
      "metadata": {
        "id": "LxlzSMTjKIQY"
      }
    },
    {
      "cell_type": "code",
      "source": [
        "import re"
      ],
      "metadata": {
        "id": "hGq8kpyuKCKY"
      },
      "execution_count": 12,
      "outputs": []
    },
    {
      "cell_type": "code",
      "source": [
        "for i in range(0,len(sentences)):\n",
        "     text = re.sub(r\"[^a-zA-Z0-9]\", \" \", sentences[i].lower())\n",
        "     print(text)\n",
        "     words = text.split()\n",
        "     print(words)"
      ],
      "metadata": {
        "colab": {
          "base_uri": "https://localhost:8080/"
        },
        "id": "V0LxvMbHKMHv",
        "outputId": "872c29fa-475d-4510-f1bb-7634233d7299"
      },
      "execution_count": 15,
      "outputs": [
        {
          "output_type": "stream",
          "name": "stdout",
          "text": [
            "i have three visions for india \n",
            "['i', 'have', 'three', 'visions', 'for', 'india']\n",
            "in 3000 years of our history  people from all over                the world have come and invaded us  captured our lands  conquered our minds \n",
            "['in', '3000', 'years', 'of', 'our', 'history', 'people', 'from', 'all', 'over', 'the', 'world', 'have', 'come', 'and', 'invaded', 'us', 'captured', 'our', 'lands', 'conquered', 'our', 'minds']\n",
            "from alexander onwards  the greeks  the turks  the moguls  the portuguese  the british                 the french  the dutch  all of them came and looted us  took over what was ours \n",
            "['from', 'alexander', 'onwards', 'the', 'greeks', 'the', 'turks', 'the', 'moguls', 'the', 'portuguese', 'the', 'british', 'the', 'french', 'the', 'dutch', 'all', 'of', 'them', 'came', 'and', 'looted', 'us', 'took', 'over', 'what', 'was', 'ours']\n",
            "yet we have not done this to any other nation \n",
            "['yet', 'we', 'have', 'not', 'done', 'this', 'to', 'any', 'other', 'nation']\n",
            "we have not conquered anyone \n",
            "['we', 'have', 'not', 'conquered', 'anyone']\n",
            "we have not grabbed their land  their culture                 their history and tried to enforce our way of life on them \n",
            "['we', 'have', 'not', 'grabbed', 'their', 'land', 'their', 'culture', 'their', 'history', 'and', 'tried', 'to', 'enforce', 'our', 'way', 'of', 'life', 'on', 'them']\n",
            "why \n",
            "['why']\n",
            "because we respect the freedom of others that is why my                first vision is that of freedom \n",
            "['because', 'we', 'respect', 'the', 'freedom', 'of', 'others', 'that', 'is', 'why', 'my', 'first', 'vision', 'is', 'that', 'of', 'freedom']\n",
            "i believe that india got its first vision of                this in 1857  when we started the war of independence \n",
            "['i', 'believe', 'that', 'india', 'got', 'its', 'first', 'vision', 'of', 'this', 'in', '1857', 'when', 'we', 'started', 'the', 'war', 'of', 'independence']\n",
            "it is this freedom that                we must protect and nurture and build on \n",
            "['it', 'is', 'this', 'freedom', 'that', 'we', 'must', 'protect', 'and', 'nurture', 'and', 'build', 'on']\n",
            "if we are not free  no one will respect us \n",
            "['if', 'we', 'are', 'not', 'free', 'no', 'one', 'will', 'respect', 'us']\n",
            "my second vision for india s development \n",
            "['my', 'second', 'vision', 'for', 'india', 's', 'development']\n",
            "for fifty years we have been a developing nation \n",
            "['for', 'fifty', 'years', 'we', 'have', 'been', 'a', 'developing', 'nation']\n",
            "it is time we see ourselves as a developed nation \n",
            "['it', 'is', 'time', 'we', 'see', 'ourselves', 'as', 'a', 'developed', 'nation']\n",
            "we are among the top 5 nations of the world                in terms of gdp \n",
            "['we', 'are', 'among', 'the', 'top', '5', 'nations', 'of', 'the', 'world', 'in', 'terms', 'of', 'gdp']\n",
            "we have a 10 percent growth rate in most areas \n",
            "['we', 'have', 'a', '10', 'percent', 'growth', 'rate', 'in', 'most', 'areas']\n",
            "our poverty levels are falling \n",
            "['our', 'poverty', 'levels', 'are', 'falling']\n",
            "our achievements are being globally recognised today \n",
            "['our', 'achievements', 'are', 'being', 'globally', 'recognised', 'today']\n",
            "yet we lack the self confidence to                see ourselves as a developed nation  self reliant and self assured \n",
            "['yet', 'we', 'lack', 'the', 'self', 'confidence', 'to', 'see', 'ourselves', 'as', 'a', 'developed', 'nation', 'self', 'reliant', 'and', 'self', 'assured']\n",
            "isn t this incorrect \n",
            "['isn', 't', 'this', 'incorrect']\n",
            "i have a third vision \n",
            "['i', 'have', 'a', 'third', 'vision']\n",
            "india must stand up to the world \n",
            "['india', 'must', 'stand', 'up', 'to', 'the', 'world']\n",
            "because i believe that unless india                stands up to the world  no one will respect us \n",
            "['because', 'i', 'believe', 'that', 'unless', 'india', 'stands', 'up', 'to', 'the', 'world', 'no', 'one', 'will', 'respect', 'us']\n",
            "only strength respects strength \n",
            "['only', 'strength', 'respects', 'strength']\n",
            "we must be                strong not only as a military power but also as an economic power \n",
            "['we', 'must', 'be', 'strong', 'not', 'only', 'as', 'a', 'military', 'power', 'but', 'also', 'as', 'an', 'economic', 'power']\n",
            "both must go hand in hand \n",
            "['both', 'must', 'go', 'hand', 'in', 'hand']\n",
            "my good fortune was to have worked with three great minds \n",
            "['my', 'good', 'fortune', 'was', 'to', 'have', 'worked', 'with', 'three', 'great', 'minds']\n",
            "dr  vikram sarabhai of the dept \n",
            "['dr', 'vikram', 'sarabhai', 'of', 'the', 'dept']\n",
            "of                space  professor satish dhawan  who succeeded him and dr  brahm prakash  father of nuclear material \n",
            "['of', 'space', 'professor', 'satish', 'dhawan', 'who', 'succeeded', 'him', 'and', 'dr', 'brahm', 'prakash', 'father', 'of', 'nuclear', 'material']\n",
            "i was lucky to have worked with all three of them closely and consider this the great opportunity of my life \n",
            "['i', 'was', 'lucky', 'to', 'have', 'worked', 'with', 'all', 'three', 'of', 'them', 'closely', 'and', 'consider', 'this', 'the', 'great', 'opportunity', 'of', 'my', 'life']\n",
            "i see four milestones in my career\n",
            "['i', 'see', 'four', 'milestones', 'in', 'my', 'career']\n"
          ]
        }
      ]
    },
    {
      "cell_type": "markdown",
      "source": [
        "**Tokenization using Gensim**"
      ],
      "metadata": {
        "id": "BaAA4kMGLlbU"
      }
    },
    {
      "cell_type": "code",
      "source": [
        "pip install gensim"
      ],
      "metadata": {
        "colab": {
          "base_uri": "https://localhost:8080/"
        },
        "id": "f70aXlcnLmED",
        "outputId": "a2dd448d-9280-4651-8961-31e64b7e1503"
      },
      "execution_count": 17,
      "outputs": [
        {
          "output_type": "stream",
          "name": "stdout",
          "text": [
            "Requirement already satisfied: gensim in /usr/local/lib/python3.10/dist-packages (4.3.2)\n",
            "Requirement already satisfied: numpy>=1.18.5 in /usr/local/lib/python3.10/dist-packages (from gensim) (1.25.2)\n",
            "Requirement already satisfied: scipy>=1.7.0 in /usr/local/lib/python3.10/dist-packages (from gensim) (1.11.4)\n",
            "Requirement already satisfied: smart-open>=1.8.1 in /usr/local/lib/python3.10/dist-packages (from gensim) (6.4.0)\n"
          ]
        }
      ]
    },
    {
      "cell_type": "code",
      "source": [
        "from gensim.utils import simple_preprocess\n",
        "\n",
        "# Sample text\n",
        "text = \"Tokenization is an important step in NLP. Gensim is a powerful library.\"\n",
        "\n",
        "# Tokenize the text using Gensim's simple_preprocess function\n",
        "tokens = simple_preprocess(text)\n",
        "\n",
        "# Print the tokens\n",
        "print(tokens)"
      ],
      "metadata": {
        "colab": {
          "base_uri": "https://localhost:8080/"
        },
        "id": "WRXrYnGQLoU9",
        "outputId": "5829b7f1-2c95-431a-c6c3-5a029be158ce"
      },
      "execution_count": 18,
      "outputs": [
        {
          "output_type": "stream",
          "name": "stdout",
          "text": [
            "['tokenization', 'is', 'an', 'important', 'step', 'in', 'nlp', 'gensim', 'is', 'powerful', 'library']\n"
          ]
        }
      ]
    },
    {
      "cell_type": "code",
      "source": [
        "import gensim\n",
        "from nltk.tokenize import word_tokenize\n",
        "import nltk\n",
        "nltk.download('punkt')\n",
        "\n",
        "# Sample text\n",
        "text = \"Tokenization is an important step in NLP. Gensim is a powerful library.\"\n",
        "\n",
        "# Tokenize the text using NLTK\n",
        "tokens = word_tokenize(text)\n",
        "\n",
        "print(tokens)"
      ],
      "metadata": {
        "colab": {
          "base_uri": "https://localhost:8080/"
        },
        "id": "bUeXQJbeLuJ4",
        "outputId": "82a274ed-b6af-4596-ba45-fcb332c71f52"
      },
      "execution_count": 19,
      "outputs": [
        {
          "output_type": "stream",
          "name": "stdout",
          "text": [
            "['Tokenization', 'is', 'an', 'important', 'step', 'in', 'NLP', '.', 'Gensim', 'is', 'a', 'powerful', 'library', '.']\n"
          ]
        },
        {
          "output_type": "stream",
          "name": "stderr",
          "text": [
            "[nltk_data] Downloading package punkt to /root/nltk_data...\n",
            "[nltk_data]   Package punkt is already up-to-date!\n"
          ]
        }
      ]
    },
    {
      "cell_type": "code",
      "source": [
        "# Create a Gensim dictionary from the tokens\n",
        "gensim_dictionary = gensim.corpora.Dictionary([tokens])\n",
        "\n",
        "# Print the tokens and their IDs in the dictionary\n",
        "print(gensim_dictionary.token2id)"
      ],
      "metadata": {
        "colab": {
          "base_uri": "https://localhost:8080/"
        },
        "id": "ERJ-UB9SLxba",
        "outputId": "fa999473-c515-4333-8cb7-2624c0a1e3eb"
      },
      "execution_count": 20,
      "outputs": [
        {
          "output_type": "stream",
          "name": "stdout",
          "text": [
            "{'.': 0, 'Gensim': 1, 'NLP': 2, 'Tokenization': 3, 'a': 4, 'an': 5, 'important': 6, 'in': 7, 'is': 8, 'library': 9, 'powerful': 10, 'step': 11}\n"
          ]
        }
      ]
    }
  ]
}