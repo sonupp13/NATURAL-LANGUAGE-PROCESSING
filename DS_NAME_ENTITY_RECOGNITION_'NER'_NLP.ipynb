{
  "nbformat": 4,
  "nbformat_minor": 0,
  "metadata": {
    "colab": {
      "provenance": [],
      "authorship_tag": "ABX9TyNB5Zz/dsp2rBKYon8X1t7D",
      "include_colab_link": true
    },
    "kernelspec": {
      "name": "python3",
      "display_name": "Python 3"
    },
    "language_info": {
      "name": "python"
    }
  },
  "cells": [
    {
      "cell_type": "markdown",
      "metadata": {
        "id": "view-in-github",
        "colab_type": "text"
      },
      "source": [
        "<a href=\"https://colab.research.google.com/github/sonupp13/NATURAL-LANGUAGE-PROCESSING/blob/main/DS_NAME_ENTITY_RECOGNITION_'NER'_NLP.ipynb\" target=\"_parent\"><img src=\"https://colab.research.google.com/assets/colab-badge.svg\" alt=\"Open In Colab\"/></a>"
      ]
    },
    {
      "cell_type": "code",
      "execution_count": 11,
      "metadata": {
        "id": "AUyCjW259QUF"
      },
      "outputs": [],
      "source": [
        "import spacy\n"
      ]
    },
    {
      "cell_type": "code",
      "source": [
        "nlp=spacy.load('en_core_web_sm')     #model called into nlp variable"
      ],
      "metadata": {
        "id": "yWCCr1mR-Dsg"
      },
      "execution_count": 5,
      "outputs": []
    },
    {
      "cell_type": "code",
      "source": [
        "sample_text = \"\"\"\n",
        "Apple Inc. is planning to open a new store in San Francisco on January 20, 2024.\n",
        "Elon Musk, the CEO of Tesla, announced a new electric car model at a recent conference.\n",
        "The Eiffel Tower is located in Paris, France.\n",
        "\"\"\""
      ],
      "metadata": {
        "id": "ITR8iRUF-YKd"
      },
      "execution_count": 6,
      "outputs": []
    },
    {
      "cell_type": "code",
      "source": [
        "doc= nlp(sample_text)\n",
        "print(doc.ents)"
      ],
      "metadata": {
        "colab": {
          "base_uri": "https://localhost:8080/"
        },
        "id": "i9dQho-V-bAA",
        "outputId": "4b44b2f3-97fb-41c4-a7a6-ad09bae6daa4"
      },
      "execution_count": 9,
      "outputs": [
        {
          "output_type": "stream",
          "name": "stdout",
          "text": [
            "(Apple Inc., San Francisco, January 20, 2024, Elon Musk, Tesla, The Eiffel Tower, Paris, France)\n"
          ]
        }
      ]
    },
    {
      "cell_type": "code",
      "source": [
        "for ent in doc.ents:\n",
        "    print(f\"{ent.text} - {ent.label_}\")                  #tagging like pos org- organisation"
      ],
      "metadata": {
        "colab": {
          "base_uri": "https://localhost:8080/"
        },
        "id": "sphYGhcM-gu3",
        "outputId": "ca120800-492d-4d2c-f0c3-3db0b5fa3c3e"
      },
      "execution_count": 10,
      "outputs": [
        {
          "output_type": "stream",
          "name": "stdout",
          "text": [
            "Apple Inc. - ORG\n",
            "San Francisco - GPE\n",
            "January 20, 2024 - DATE\n",
            "Elon Musk - PERSON\n",
            "Tesla - ORG\n",
            "The Eiffel Tower - FAC\n",
            "Paris - GPE\n",
            "France - GPE\n"
          ]
        }
      ]
    },
    {
      "cell_type": "markdown",
      "source": [
        "# another example"
      ],
      "metadata": {
        "id": "2NEctp2c-7c_"
      }
    },
    {
      "cell_type": "code",
      "source": [
        "import spacy"
      ],
      "metadata": {
        "id": "mM-VhY6m-vdy"
      },
      "execution_count": 10,
      "outputs": []
    },
    {
      "cell_type": "code",
      "source": [
        "nlp= spacy.load('en_core_web_sm')"
      ],
      "metadata": {
        "id": "tdbyCtgG_EyO"
      },
      "execution_count": 12,
      "outputs": []
    },
    {
      "cell_type": "code",
      "source": [
        "text=\"\"\"\n",
        "Google was founded by Larry Page and Sergey Brin in September 1998.\n",
        "The Mona Lisa, painted by Leonardo da Vinci, is displayed in the Louvre Museum.\n",
        "Albert Einstein, born on March 14, 1879, was a theoretical physicist.\n",
        "\"\"\"\n"
      ],
      "metadata": {
        "id": "hZOVoqmq_OFJ"
      },
      "execution_count": 17,
      "outputs": []
    },
    {
      "cell_type": "code",
      "source": [
        "doc= nlp(text)\n",
        "print(doc.ents)"
      ],
      "metadata": {
        "colab": {
          "base_uri": "https://localhost:8080/"
        },
        "id": "FhuSAXMc_SaM",
        "outputId": "f7298840-43b6-4e5a-8346-e3a8ab65e260"
      },
      "execution_count": 18,
      "outputs": [
        {
          "output_type": "stream",
          "name": "stdout",
          "text": [
            "(Google, Larry Page, Sergey Brin, September 1998, The Mona Lisa, Leonardo da Vinci, the Louvre Museum, Albert Einstein, March 14, 1879)\n"
          ]
        }
      ]
    },
    {
      "cell_type": "code",
      "source": [
        "print(\"Named Entities:\")\n",
        "for ent in doc.ents:\n",
        "    print(f\"{ent.text} - {ent.label_}\")"
      ],
      "metadata": {
        "colab": {
          "base_uri": "https://localhost:8080/"
        },
        "id": "rMNmO9MV_vfi",
        "outputId": "a17df1ee-11f4-4a2a-9f78-d6e66ed29836"
      },
      "execution_count": 19,
      "outputs": [
        {
          "output_type": "stream",
          "name": "stdout",
          "text": [
            "Named Entities:\n",
            "Google - ORG\n",
            "Larry Page - PERSON\n",
            "Sergey Brin - PERSON\n",
            "September 1998 - DATE\n",
            "The Mona Lisa - WORK_OF_ART\n",
            "Leonardo da Vinci - PERSON\n",
            "the Louvre Museum - ORG\n",
            "Albert Einstein - PERSON\n",
            "March 14, 1879 - DATE\n"
          ]
        }
      ]
    },
    {
      "cell_type": "code",
      "source": [
        "for ent in doc.ents:\n",
        "    print(f\"{ent.text} - {ent.start} to {ent.end-1} ({ent.label_}) - {spacy.explain(ent.label_)}\")\n"
      ],
      "metadata": {
        "colab": {
          "base_uri": "https://localhost:8080/"
        },
        "id": "XW2vwloB_xzf",
        "outputId": "edb6c05f-a56e-45c4-8df2-f4236cfa06e1"
      },
      "execution_count": 28,
      "outputs": [
        {
          "output_type": "stream",
          "name": "stdout",
          "text": [
            "Google - 1 to 1 (ORG) - Companies, agencies, institutions, etc.\n",
            "Larry Page - 5 to 6 (PERSON) - People, including fictional\n",
            "Sergey Brin - 8 to 9 (PERSON) - People, including fictional\n",
            "September 1998 - 11 to 12 (DATE) - Absolute or relative dates or periods\n",
            "The Mona Lisa - 15 to 17 (WORK_OF_ART) - Titles of books, songs, etc.\n",
            "Leonardo da Vinci - 21 to 23 (PERSON) - People, including fictional\n",
            "the Louvre Museum - 28 to 30 (ORG) - Companies, agencies, institutions, etc.\n",
            "Albert Einstein - 33 to 34 (PERSON) - People, including fictional\n",
            "March 14, 1879 - 38 to 41 (DATE) - Absolute or relative dates or periods\n"
          ]
        }
      ]
    }
  ]
}